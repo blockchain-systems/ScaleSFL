{
 "cells": [
  {
   "cell_type": "markdown",
   "metadata": {},
   "source": [
    "# Baseline model\n",
    "\n",
    "Here we will train the same model used in our network, but without federated learning. This will give us a good baseline to compare against  \n",
    "\n",
    "This model is trained on the [CIFAR-10 dataset](https://www.cs.toronto.edu/~kriz/cifar.html), which consists of 60000 32x32 colour images split into 10 classes. Each class has 6000 images."
   ]
  },
  {
   "cell_type": "code",
   "execution_count": 1,
   "metadata": {},
   "outputs": [],
   "source": [
    "%load_ext autoreload\n",
    "%autoreload 2"
   ]
  },
  {
   "cell_type": "code",
   "execution_count": 14,
   "metadata": {},
   "outputs": [],
   "source": [
    "import torch\n",
    "\n",
    "from src.models.utils.environment import get_device\n",
    "DEVICE = get_device(cpu=True)"
   ]
  },
  {
   "cell_type": "code",
   "execution_count": 3,
   "metadata": {},
   "outputs": [
    {
     "name": "stdout",
     "output_type": "stream",
     "text": [
      "Cuda available: True\n",
      "major and minor cuda capability of the device: (8, 6)\n"
     ]
    }
   ],
   "source": [
    "print(f\"Cuda available: {torch.cuda.is_available()}\")\n",
    "\n",
    "try:\n",
    "    print(f\"major and minor cuda capability of the device: {torch.cuda.get_device_capability()}\")\n",
    "except Exception:\n",
    "    print(\"No Cuda available\")"
   ]
  },
  {
   "cell_type": "markdown",
   "metadata": {},
   "source": [
    "Create the model"
   ]
  },
  {
   "cell_type": "code",
   "execution_count": 15,
   "metadata": {},
   "outputs": [
    {
     "name": "stdout",
     "output_type": "stream",
     "text": [
      "        module  parameters\n",
      "0  fc.1.weight        7840\n",
      "1    fc.1.bias          10\n",
      "Total Parameters: 7,850\n"
     ]
    }
   ],
   "source": [
    "from src.models.mlp import create_model\n",
    "from src.models.utils import count_parameters\n",
    "\n",
    "# net = create_model(in_channels=3, img_size=32, device=DEVICE)\n",
    "net = create_model(layer_dims=[28 * 28 * 1, 10], device=DEVICE)\n",
    "print(count_parameters(net, breakdown=True))\n",
    "print(f\"Total Parameters: {count_parameters(net):,}\")"
   ]
  },
  {
   "cell_type": "markdown",
   "metadata": {},
   "source": [
    "We'll load the CIFAR-10 dataset here"
   ]
  },
  {
   "cell_type": "code",
   "execution_count": 5,
   "metadata": {},
   "outputs": [],
   "source": [
    "from src.datasets import mnist_noniid, mnist_test, cifar10_noniid, cifar10_test\n",
    "\n",
    "trainloader, validloader = mnist_noniid()\n",
    "testloader = mnist_test()\n",
    "# trainloader, validloader = cifar10_noniid()\n",
    "# testloader = cifar10_test()"
   ]
  },
  {
   "cell_type": "markdown",
   "metadata": {},
   "source": [
    "Now train the model\n",
    "\n",
    "Note that we'll train the model for the same number of epochs as rounds are performed in FL"
   ]
  },
  {
   "cell_type": "code",
   "execution_count": 16,
   "metadata": {},
   "outputs": [
    {
     "name": "stderr",
     "output_type": "stream",
     "text": [
      "/home/evan/Projects/school/Sharded-Committee-Consensus-in-Blockchain-based-Federated-Learning/example-participant/fl-service/.venv/lib/python3.9/site-packages/opacus/privacy_engine.py:100: UserWarning: Secure RNG turned off. This is perfectly fine for experimentation as it allows for much faster training performance, but remember to turn it on and retrain one last time before production with ``secure_mode`` turned on.\n",
      "  warnings.warn(\n",
      "/home/evan/Projects/school/Sharded-Committee-Consensus-in-Blockchain-based-Federated-Learning/example-participant/fl-service/.venv/lib/python3.9/site-packages/torch/nn/modules/module.py:1025: UserWarning: Using a non-full backward hook when the forward contains multiple autograd Nodes is deprecated and will be removed in future versions. This hook will be missing some grad_input. Please use register_full_backward_hook to get the documented behavior.\n",
      "  warnings.warn(\"Using a non-full backward hook when the forward contains multiple autograd Nodes \"\n"
     ]
    }
   ],
   "source": [
    "from opacus import PrivacyEngine\n",
    "\n",
    "from src.models.evaluation.train_cls import train\n",
    "from src.utils.constants import DEFAULT_LOCAL_EPOCHS, DEFAULT_FL_ROUNDS\n",
    "\n",
    "epochs = DEFAULT_LOCAL_EPOCHS * DEFAULT_FL_ROUNDS\n",
    "privacy_engine = PrivacyEngine()\n",
    "# privacy_engine = None\n",
    "loss_vals = train(net, trainloader, epochs, privacy_engine=privacy_engine, device=DEVICE)"
   ]
  },
  {
   "cell_type": "code",
   "execution_count": 17,
   "metadata": {},
   "outputs": [
    {
     "data": {
      "text/plain": [
       "11.573073823480843"
      ]
     },
     "execution_count": 17,
     "metadata": {},
     "output_type": "execute_result"
    }
   ],
   "source": [
    "from src.utils.constants import PRIVACY_TARGET_DELTA\n",
    "\n",
    "privacy_engine.get_epsilon(PRIVACY_TARGET_DELTA)"
   ]
  },
  {
   "cell_type": "code",
   "execution_count": 18,
   "metadata": {},
   "outputs": [
    {
     "data": {
      "text/plain": [
       "<AxesSubplot:>"
      ]
     },
     "execution_count": 18,
     "metadata": {},
     "output_type": "execute_result"
    },
    {
     "data": {
      "image/png": "[encoded data removed]",
      "text/plain": [
       "<Figure size 432x288 with 1 Axes>"
      ]
     },
     "metadata": {
      "needs_background": "light"
     },
     "output_type": "display_data"
    }
   ],
   "source": [
    "import numpy as np\n",
    "import seaborn as sns\n",
    "\n",
    "sns.set_theme(\"notebook\")\n",
    "sns.lineplot(x=np.linspace(1, epochs, epochs), y=loss_vals)"
   ]
  },
  {
   "cell_type": "markdown",
   "metadata": {},
   "source": [
    "Now we'll evaluate the model"
   ]
  },
  {
   "cell_type": "code",
   "execution_count": 21,
   "metadata": {},
   "outputs": [],
   "source": [
    "from src.models.evaluation.train_cls import test\n",
    "\n",
    "loss, accuracy = test(net, testloader, device=DEVICE)"
   ]
  },
  {
   "cell_type": "code",
   "execution_count": 10,
   "metadata": {},
   "outputs": [
    {
     "data": {
      "text/plain": [
       "0.8834"
      ]
     },
     "execution_count": 10,
     "metadata": {},
     "output_type": "execute_result"
    }
   ],
   "source": [
    "accuracy"
   ]
  },
  {
   "cell_type": "code",
   "execution_count": 13,
   "metadata": {},
   "outputs": [
    {
     "data": {
      "image/png": "[encoded data removed]",
      "text/plain": [
       "<Figure size 2592x576 with 6 Axes>"
      ]
     },
     "metadata": {},
     "output_type": "display_data"
    }
   ],
   "source": [
    "from src.datasets.visualize import show_predictions, MNIST_CLASSES, CIFAR_CLASSES\n",
    "\n",
    "show_predictions(net, testloader, channels=1, img_size=28, labels=MNIST_CLASSES, device=DEVICE)\n",
    "# show_predictions(net, testloader, channels=1, img_size=32, labels=CIFAR_CLASSES, device=DEVICE)"
   ]
  },
  {
   "cell_type": "code",
   "execution_count": null,
   "metadata": {},
   "outputs": [],
   "source": []
  }
 ],
 "metadata": {
  "interpreter": {
   "hash": "983c8d3059cfea68036c4677c590e596f10a58c41d6ecbd10676f52990286621"
  },
  "kernelspec": {
   "display_name": "Python 3.9.7 64-bit ('.venv': venv)",
   "language": "python",
   "name": "python3"
  },
  "language_info": {
   "codemirror_mode": {
    "name": "ipython",
    "version": 3
   },
   "file_extension": ".py",
   "mimetype": "text/x-python",
   "name": "python",
   "nbconvert_exporter": "python",
   "pygments_lexer": "ipython3",
   "version": "3.9.9"
  },
  "orig_nbformat": 4
 },
 "nbformat": 4,
 "nbformat_minor": 2
}
